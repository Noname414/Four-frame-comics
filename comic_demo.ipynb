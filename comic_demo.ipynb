{
  "cells": [
    {
      "cell_type": "raw",
      "metadata": {
        "vscode": {
          "languageId": "raw"
        }
      },
      "source": [
        "# 🎨 四格漫畫生成器示範\n",
        "\n",
        "這個 Notebook 示範如何使用新聞標題生成四格漫畫\n",
        "\n",
        "## 功能概述\n",
        "1. **新聞分析**: 使用 Gemini + Google Search 分析新聞標題\n",
        "2. **劇本生成**: 根據分析結果創作四格漫畫劇本（起承轉合）\n",
        "3. **圖像生成**: 為每格生成對應的漫畫圖片\n",
        "\n",
        "## 技術特色\n",
        "- 🔍 自動蒐集新聞背景資訊\n",
        "- ✍️ 結構化劇本生成（Pydantic 模型）\n",
        "- 🎨 AI 圖像生成整合\n",
        "- 📱 完整的輸出管理\n"
      ]
    },
    {
      "cell_type": "raw",
      "metadata": {
        "vscode": {
          "languageId": "raw"
        }
      },
      "source": [
        "## 1. 環境設定\n"
      ]
    },
    {
      "cell_type": "code",
      "execution_count": 1,
      "metadata": {},
      "outputs": [
        {
          "name": "stdout",
          "output_type": "stream",
          "text": [
            "⚠️  請設定 GENAI_API_KEY 環境變數\n",
            "os.environ['GENAI_API_KEY'] = '你的API金鑰'\n"
          ]
        }
      ],
      "source": [
        "# 安裝必要套件\n",
        "# !pip install google-genai pydantic pillow\n",
        "\n",
        "import os\n",
        "from comic_generator import ComicGenerator\n",
        "\n",
        "# 設定 API 金鑰 (請替換為你的實際金鑰)\n",
        "# os.environ['GENAI_API_KEY'] = '你的API金鑰'\n",
        "\n",
        "# 檢查 API 金鑰\n",
        "if 'GENAI_API_KEY' not in os.environ:\n",
        "    print(\"⚠️  請設定 GENAI_API_KEY 環境變數\")\n",
        "    print(\"os.environ['GENAI_API_KEY'] = '你的API金鑰'\")\n",
        "else:\n",
        "    print(\"✅ API 金鑰已設定\")\n"
      ]
    },
    {
      "cell_type": "raw",
      "metadata": {
        "vscode": {
          "languageId": "raw"
        }
      },
      "source": [
        "## 2. 初始化生成器\n"
      ]
    },
    {
      "cell_type": "code",
      "execution_count": 2,
      "metadata": {},
      "outputs": [
        {
          "name": "stdout",
          "output_type": "stream",
          "text": [
            "🎨 四格漫畫生成器已初始化\n"
          ]
        }
      ],
      "source": [
        "# 建立四格漫畫生成器\n",
        "generator = ComicGenerator()\n",
        "print(\"🎨 四格漫畫生成器已初始化\")\n"
      ]
    },
    {
      "cell_type": "raw",
      "metadata": {
        "vscode": {
          "languageId": "raw"
        }
      },
      "source": [
        "## 3. 示範：分析新聞標題\n"
      ]
    },
    {
      "cell_type": "code",
      "execution_count": 1,
      "metadata": {},
      "outputs": [
        {
          "name": "stdout",
          "output_type": "stream",
          "text": [
            "選擇的新聞標題: 貓咪當選市長，政見是增加貓食預算\n",
            "⚠️ 搜尋模式失敗，切換到基本模式: name 'generator' is not defined\n"
          ]
        },
        {
          "ename": "NameError",
          "evalue": "name 'generator' is not defined",
          "output_type": "error",
          "traceback": [
            "\u001b[31m---------------------------------------------------------------------------\u001b[39m",
            "\u001b[31mNameError\u001b[39m                                 Traceback (most recent call last)",
            "\u001b[36mCell\u001b[39m\u001b[36m \u001b[39m\u001b[32mIn[1]\u001b[39m\u001b[32m, line 15\u001b[39m\n\u001b[32m     14\u001b[39m \u001b[38;5;28;01mtry\u001b[39;00m:\n\u001b[32m---> \u001b[39m\u001b[32m15\u001b[39m     news_analysis = \u001b[43mgenerator\u001b[49m.analyze_news_title(selected_title, use_search=\u001b[38;5;28;01mTrue\u001b[39;00m)\n\u001b[32m     16\u001b[39m     \u001b[38;5;28mprint\u001b[39m(\u001b[33m\"\u001b[39m\u001b[33m✅ 使用搜尋模式分析完成\u001b[39m\u001b[33m\"\u001b[39m)\n",
            "\u001b[31mNameError\u001b[39m: name 'generator' is not defined",
            "\nDuring handling of the above exception, another exception occurred:\n",
            "\u001b[31mNameError\u001b[39m                                 Traceback (most recent call last)",
            "\u001b[36mCell\u001b[39m\u001b[36m \u001b[39m\u001b[32mIn[1]\u001b[39m\u001b[32m, line 19\u001b[39m\n\u001b[32m     17\u001b[39m \u001b[38;5;28;01mexcept\u001b[39;00m \u001b[38;5;167;01mException\u001b[39;00m \u001b[38;5;28;01mas\u001b[39;00m e:\n\u001b[32m     18\u001b[39m     \u001b[38;5;28mprint\u001b[39m(\u001b[33mf\u001b[39m\u001b[33m\"\u001b[39m\u001b[33m⚠️ 搜尋模式失敗，切換到基本模式: \u001b[39m\u001b[38;5;132;01m{\u001b[39;00me\u001b[38;5;132;01m}\u001b[39;00m\u001b[33m\"\u001b[39m)\n\u001b[32m---> \u001b[39m\u001b[32m19\u001b[39m     news_analysis = \u001b[43mgenerator\u001b[49m.analyze_news_title(selected_title, use_search=\u001b[38;5;28;01mFalse\u001b[39;00m)\n\u001b[32m     20\u001b[39m     \u001b[38;5;28mprint\u001b[39m(\u001b[33m\"\u001b[39m\u001b[33m✅ 使用基本模式分析完成\u001b[39m\u001b[33m\"\u001b[39m)\n\u001b[32m     22\u001b[39m \u001b[38;5;28mprint\u001b[39m(\u001b[33m\"\u001b[39m\u001b[38;5;130;01m\\n\u001b[39;00m\u001b[33m📊 新聞分析結果:\u001b[39m\u001b[33m\"\u001b[39m)\n",
            "\u001b[31mNameError\u001b[39m: name 'generator' is not defined"
          ]
        }
      ],
      "source": [
        "# 示範新聞標題\n",
        "news_titles = [\n",
        "    \"台積電股價創新高，投資人瘋狂搶購\",\n",
        "    \"貓咪當選市長，政見是增加貓食預算\",\n",
        "    \"AI 機器人學會做珍珠奶茶，手搖店老闆緊張\",\n",
        "    \"颱風天外送員堅持送餐，網友感動落淚\"\n",
        "]\n",
        "\n",
        "# 選擇一個標題進行示範\n",
        "selected_title = news_titles[1]  # 可以更改索引選擇不同標題\n",
        "print(f\"選擇的新聞標題: {selected_title}\")\n",
        "\n",
        "# 分析新聞標題（先嘗試搜尋模式，失敗時自動切換到基本模式）\n",
        "try:\n",
        "    news_analysis = generator.analyze_news_title(selected_title, use_search=True)\n",
        "    print(\"✅ 使用搜尋模式分析完成\")\n",
        "except Exception as e:\n",
        "    print(f\"⚠️ 搜尋模式失敗，切換到基本模式: {e}\")\n",
        "    news_analysis = generator.analyze_news_title(selected_title, use_search=False)\n",
        "    print(\"✅ 使用基本模式分析完成\")\n",
        "\n",
        "print(\"\\n📊 新聞分析結果:\")\n",
        "print(f\"主角: {news_analysis.main_character}\")\n",
        "print(f\"動作: {news_analysis.action}\")\n",
        "print(f\"動機: {news_analysis.motivation}\")\n",
        "print(f\"場景: {news_analysis.setting}\")\n",
        "print(f\"結果: {news_analysis.result}\")\n",
        "print(f\"摘要: {news_analysis.summary}\")\n"
      ]
    },
    {
      "cell_type": "raw",
      "metadata": {
        "vscode": {
          "languageId": "raw"
        }
      },
      "source": [
        "## 4. 生成四格漫畫劇本\n"
      ]
    },
    {
      "cell_type": "code",
      "execution_count": null,
      "metadata": {},
      "outputs": [],
      "source": [
        "# 根據分析結果生成劇本\n",
        "comic_script = generator.generate_comic_script(news_analysis)\n",
        "\n",
        "# 顯示劇本摘要\n",
        "generator.print_script_summary(comic_script)\n"
      ]
    },
    {
      "cell_type": "raw",
      "metadata": {
        "vscode": {
          "languageId": "raw"
        }
      },
      "source": [
        "## 5. 完整流程示範\n"
      ]
    },
    {
      "cell_type": "code",
      "execution_count": null,
      "metadata": {},
      "outputs": [],
      "source": [
        "# 一鍵完成所有流程（包含圖片生成）\n",
        "test_title = \"AI 機器人學會做珍珠奶茶，手搖店老闆緊張\"\n",
        "print(f\"🚀 開始處理: {test_title}\")\n",
        "\n",
        "# 可以選擇是否使用搜尋功能\n",
        "use_search = False  # 設為 False 可避免搜尋功能相關錯誤\n",
        "print(f\"搜尋模式: {'開啟' if use_search else '關閉'}\")\n",
        "\n",
        "result = generator.generate_full_comic(test_title, \"demo_output\", use_search=use_search)\n",
        "\n",
        "if result[\"success\"]:\n",
        "    print(\"\\n✅ 生成完成！\")\n",
        "    print(f\"📄 劇本檔案: {result['script_path']}\")\n",
        "    print(f\"🖼️  共生成 {len(result['image_paths'])} 張圖片\")\n",
        "    for i, path in enumerate(result['image_paths'], 1):\n",
        "        print(f\"   第{i}格: {path}\")\n",
        "else:\n",
        "    print(f\"\\n❌ 生成失敗: {result.get('error')}\")\n"
      ]
    }
  ],
  "metadata": {
    "kernelspec": {
      "display_name": "Python 3",
      "language": "python",
      "name": "python3"
    },
    "language_info": {
      "codemirror_mode": {
        "name": "ipython",
        "version": 3
      },
      "file_extension": ".py",
      "mimetype": "text/x-python",
      "name": "python",
      "nbconvert_exporter": "python",
      "pygments_lexer": "ipython3",
      "version": "3.13.4"
    }
  },
  "nbformat": 4,
  "nbformat_minor": 2
}

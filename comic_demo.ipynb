{
  "cells": [
    {
      "cell_type": "raw",
      "metadata": {
        "vscode": {
          "languageId": "raw"
        }
      },
      "source": [
        "# 🎨 四格漫畫生成器示範\n",
        "\n",
        "這個 Notebook 示範如何使用新聞標題生成四格漫畫\n",
        "\n",
        "## 功能概述\n",
        "1. **新聞分析**: 使用 Gemini + Google Search 分析新聞標題\n",
        "2. **劇本生成**: 根據分析結果創作四格漫畫劇本（起承轉合）\n",
        "3. **圖像生成**: 為每格生成對應的漫畫圖片\n",
        "\n",
        "## 技術特色\n",
        "- 🔍 自動蒐集新聞背景資訊\n",
        "- ✍️ 結構化劇本生成（Pydantic 模型）\n",
        "- 🎨 AI 圖像生成整合\n",
        "- 📱 完整的輸出管理\n"
      ]
    },
    {
      "cell_type": "markdown",
      "metadata": {},
      "source": [
        "## 1. 環境設定\n"
      ]
    },
    {
      "cell_type": "code",
      "execution_count": 6,
      "metadata": {},
      "outputs": [
        {
          "name": "stdout",
          "output_type": "stream",
          "text": [
            "✅ API 金鑰已設定\n"
          ]
        }
      ],
      "source": [
        "# 安裝必要套件\n",
        "# !pip install google-genai pydantic pillow\n",
        "\n",
        "import os\n",
        "from comic_generator import ComicGenerator\n",
        "\n",
        "# 設定 API 金鑰 (請替換為你的實際金鑰)\n",
        "# os.environ['GEMINI_API_KEY'] = '你的API金鑰'\n",
        "\n",
        "# 檢查 API 金鑰\n",
        "if 'GEMINI_API_KEY' not in os.environ:\n",
        "    print(\"⚠️  請設定 GEMINI_API_KEY 環境變數\")\n",
        "    print(\"os.environ['GEMINI_API_KEY'] = '你的API金鑰'\")\n",
        "else:\n",
        "    print(\"✅ API 金鑰已設定\")\n"
      ]
    },
    {
      "cell_type": "markdown",
      "metadata": {},
      "source": [
        "## 2. 初始化生成器\n"
      ]
    },
    {
      "cell_type": "code",
      "execution_count": 7,
      "metadata": {},
      "outputs": [
        {
          "name": "stdout",
          "output_type": "stream",
          "text": [
            "🎨 四格漫畫生成器已初始化\n"
          ]
        }
      ],
      "source": [
        "# 建立四格漫畫生成器\n",
        "generator = ComicGenerator()\n",
        "print(\"🎨 四格漫畫生成器已初始化\")\n"
      ]
    },
    {
      "cell_type": "markdown",
      "metadata": {},
      "source": [
        "## 3. 示範：分析新聞標題\n"
      ]
    },
    {
      "cell_type": "code",
      "execution_count": 9,
      "metadata": {},
      "outputs": [
        {
          "name": "stdout",
          "output_type": "stream",
          "text": [
            "選擇的新聞標題: 台積電股價創新高，投資人瘋狂搶購\n",
            "🔍 分析新聞標題: 台積電股價創新高，投資人瘋狂搶購\n",
            "📊 已完成資訊搜尋，正在分析...\n",
            "✅ 使用搜尋模式分析完成\n",
            "\n",
            "📊 新聞分析結果:\n",
            "主角: 台積電 (TSMC) 和 投資人\n",
            "動作: 台積電股價創新高，投資人瘋狂搶購\n",
            "動機: AI 與 5G 需求、CoWoS 先進封裝技術、營收創歷史新高、市場樂觀預期、地緣政治因素、專家看好、庫藏股買回\n",
            "場景: 全球半導體產業、台股市場、AI 和 5G 發展浪潮、全球經濟環境\n",
            "結果: 台積電市值增加、投資人獲利、台股大盤上漲、資金轉向、概念股受惠、CoWoS 產能擴張\n",
            "摘要: 台積電在全球 AI 和 5G 需求帶動下，股價創新高，吸引投資人瘋狂搶購。這反映了市場對台積電未來發展的樂觀預期，以及台積電在半導體產業中的領導地位。股價上漲帶動台積電市值增加，投資人獲利，並對台股大盤產生積極影響。同時，台積電也積極擴充產能，以滿足市場對先進製程和封裝技術的需求。\n"
          ]
        }
      ],
      "source": [
        "# 示範新聞標題\n",
        "news_titles = \"台積電股價創新高\"\n",
        "\n",
        "print(f\"選擇的新聞標題: {news_titles}\")\n",
        "\n",
        "# 分析新聞標題（先嘗試搜尋模式，失敗時自動切換到基本模式）\n",
        "try:\n",
        "    news_analysis = generator.analyze_news_title(news_titles, use_search=True)\n",
        "    print(\"✅ 使用搜尋模式分析完成\")\n",
        "except Exception as e:\n",
        "    print(f\"⚠️ 搜尋模式失敗，切換到基本模式: {e}\")\n",
        "    news_analysis = generator.analyze_news_title(news_titles, use_search=False)\n",
        "    print(\"✅ 使用基本模式分析完成\")\n",
        "\n",
        "print(\"\\n📊 新聞分析結果:\")\n",
        "print(f\"主角: {news_analysis.main_character}\")\n",
        "print(f\"動作: {news_analysis.action}\")\n",
        "print(f\"動機: {news_analysis.motivation}\")\n",
        "print(f\"場景: {news_analysis.setting}\")\n",
        "print(f\"結果: {news_analysis.result}\")\n",
        "print(f\"摘要: {news_analysis.summary}\")\n"
      ]
    },
    {
      "cell_type": "markdown",
      "metadata": {},
      "source": [
        "## 4. 生成四格漫畫劇本"
      ]
    },
    {
      "cell_type": "code",
      "execution_count": 10,
      "metadata": {},
      "outputs": [
        {
          "name": "stdout",
          "output_type": "stream",
          "text": [
            "✍️ 生成四格漫畫劇本...\n",
            "\n",
            "📖 漫畫劇本摘要\n",
            "========================================\n",
            "標題: 台積電股價狂飆\n",
            "風格: 幽默諷刺，適合成人閱讀\n",
            "\n",
            "各格內容:\n",
            "\n",
            "第 1 格 (描繪投資人因台積電股價上漲而瘋狂搶購的景象。):\n",
            "  畫面: 畫面：一個投資人 (看起來有點瘋狂)，眼睛冒著錢的符號，手上拿著好幾台手機和平板電腦，正在瘋狂下單。背景是台股市場的 K 線圖，呈現垂直上升的狀態。\n",
            "  對白: 投資人: (尖叫) ALL IN！梭哈！我要買爆台積電！AI！5G！CoWoS！錢錢錢！\n",
            "  英文提示: cartoon style, 4-panel comic, clear characters, Panel 1: A crazed investor with dollar signs in thei...\n",
            "\n",
            "第 2 格 (展示台積電為了滿足市場需求而努力生產的情景。):\n",
            "  畫面: 畫面：台積電 (擬人化，變成一個肌肉發達的巨人)，正在用 CoWoS 先進封裝技術組裝晶片，汗流浹背。背景是滿滿的晶圓。\n",
            "  對白: 台積電 (累癱): AI 伺服器要！5G 手機要！客戶們！等等我！CoWoS 產能... 不夠啊啊啊！\n",
            "  英文提示: cartoon style, 4-panel comic, clear characters, Panel 2: Anthropomorphic TSMC, a muscular giant, swe...\n",
            "\n",
            "第 3 格 (諷刺分析師對台積電股價上漲原因的解釋不夠充分。):\n",
            "  畫面: 畫面：幾個分析師 (西裝筆挺，但表情茫然)，圍著一張巨大的台積電股價走勢圖。其中一個分析師指著圖表，另一個在筆記本上瘋狂演算。\n",
            "  對白: 分析師 1: 根據…呃…這個…這個神秘力量！\n",
            "  英文提示: cartoon style, 4-panel comic, clear characters, Panel 3: A group of analysts in suits, looking confu...\n",
            "\n",
            "第 4 格 (暗示台灣產業轉型對傳統產業的影響，以及對未來的擔憂。):\n",
            "  畫面: 畫面：一個老農夫 (戴著斗笠，滿臉皺紋)，看著自己的田地變成晶圓工廠。他手上拿著一根菸斗，表情無奈。\n",
            "  對白: 老農夫: (嘆氣) 以前種稻，現在種晶片… 這年頭，連土地都 AI 了…\n",
            "  英文提示: cartoon style, 4-panel comic, clear characters, Panel 4: An old farmer with a straw hat, looking at ...\n"
          ]
        }
      ],
      "source": [
        "# 根據分析結果生成劇本\n",
        "comic_script = generator.generate_comic_script(news_analysis)\n",
        "\n",
        "# 顯示劇本摘要\n",
        "generator.print_script_summary(comic_script)\n"
      ]
    },
    {
      "cell_type": "markdown",
      "metadata": {},
      "source": [
        "## 5. 完整流程示範"
      ]
    },
    {
      "cell_type": "code",
      "execution_count": 11,
      "metadata": {},
      "outputs": [
        {
          "name": "stdout",
          "output_type": "stream",
          "text": [
            "🚀 開始處理: AI 機器人學會做珍珠奶茶，手搖店老闆緊張\n",
            "搜尋模式: 關閉\n",
            "🚀 開始四格漫畫生成流程...\n",
            "==================================================\n",
            "🔍 分析新聞標題: AI 機器人學會做珍珠奶茶，手搖店老闆緊張\n",
            "📝 使用基本分析模式（無網路搜尋）\n",
            "✅ 新聞分析完成\n",
            "✍️ 生成四格漫畫劇本...\n",
            "✅ 劇本生成完成: AI學做珍奶，老闆慌了？\n",
            "✅ 劇本已儲存: demo_output\\comic_script_20250617_163920.json\n",
            "🎨 生成四格漫畫圖片...\n",
            "正在生成完整的四格漫畫...\n",
            "✅ 四格漫畫已儲存: demo_output\\comic_20250617_163920\\4panel_comic.png\n",
            "✅ 圖片生成完成: demo_output\\comic_20250617_163920\\4panel_comic.png\n",
            "==================================================\n",
            "🎉 四格漫畫生成完成！\n",
            "\n",
            "✅ 生成完成！\n",
            "📄 劇本檔案: demo_output\\comic_script_20250617_163920.json\n"
          ]
        },
        {
          "ename": "KeyError",
          "evalue": "'image_paths'",
          "output_type": "error",
          "traceback": [
            "\u001b[31m---------------------------------------------------------------------------\u001b[39m",
            "\u001b[31mKeyError\u001b[39m                                  Traceback (most recent call last)",
            "\u001b[36mCell\u001b[39m\u001b[36m \u001b[39m\u001b[32mIn[11]\u001b[39m\u001b[32m, line 14\u001b[39m\n\u001b[32m     12\u001b[39m \u001b[38;5;28mprint\u001b[39m(\u001b[33m\"\u001b[39m\u001b[38;5;130;01m\\n\u001b[39;00m\u001b[33m✅ 生成完成！\u001b[39m\u001b[33m\"\u001b[39m)\n\u001b[32m     13\u001b[39m \u001b[38;5;28mprint\u001b[39m(\u001b[33mf\u001b[39m\u001b[33m\"\u001b[39m\u001b[33m📄 劇本檔案: \u001b[39m\u001b[38;5;132;01m{\u001b[39;00mresult[\u001b[33m'\u001b[39m\u001b[33mscript_path\u001b[39m\u001b[33m'\u001b[39m]\u001b[38;5;132;01m}\u001b[39;00m\u001b[33m\"\u001b[39m)\n\u001b[32m---> \u001b[39m\u001b[32m14\u001b[39m \u001b[38;5;28mprint\u001b[39m(\u001b[33mf\u001b[39m\u001b[33m\"\u001b[39m\u001b[33m🖼️  共生成 \u001b[39m\u001b[38;5;132;01m{\u001b[39;00m\u001b[38;5;28mlen\u001b[39m(\u001b[43mresult\u001b[49m\u001b[43m[\u001b[49m\u001b[33;43m'\u001b[39;49m\u001b[33;43mimage_paths\u001b[39;49m\u001b[33;43m'\u001b[39;49m\u001b[43m]\u001b[49m)\u001b[38;5;132;01m}\u001b[39;00m\u001b[33m 張圖片\u001b[39m\u001b[33m\"\u001b[39m)\n\u001b[32m     15\u001b[39m \u001b[38;5;28;01mfor\u001b[39;00m i, path \u001b[38;5;129;01min\u001b[39;00m \u001b[38;5;28menumerate\u001b[39m(result[\u001b[33m'\u001b[39m\u001b[33mimage_paths\u001b[39m\u001b[33m'\u001b[39m], \u001b[32m1\u001b[39m):\n\u001b[32m     16\u001b[39m     \u001b[38;5;28mprint\u001b[39m(\u001b[33mf\u001b[39m\u001b[33m\"\u001b[39m\u001b[33m   第\u001b[39m\u001b[38;5;132;01m{\u001b[39;00mi\u001b[38;5;132;01m}\u001b[39;00m\u001b[33m格: \u001b[39m\u001b[38;5;132;01m{\u001b[39;00mpath\u001b[38;5;132;01m}\u001b[39;00m\u001b[33m\"\u001b[39m)\n",
            "\u001b[31mKeyError\u001b[39m: 'image_paths'"
          ]
        }
      ],
      "source": [
        "# 一鍵完成所有流程（包含圖片生成）\n",
        "test_title = \"AI 機器人學會做珍珠奶茶，手搖店老闆緊張\"\n",
        "print(f\"🚀 開始處理: {test_title}\")\n",
        "\n",
        "# 可以選擇是否使用搜尋功能\n",
        "use_search = False  # 設為 False 可避免搜尋功能相關錯誤\n",
        "print(f\"搜尋模式: {'開啟' if use_search else '關閉'}\")\n",
        "\n",
        "result = generator.generate_full_comic(test_title, \"demo_output\", use_search=use_search)\n",
        "\n",
        "if result[\"success\"]:\n",
        "    print(\"\\n✅ 生成完成！\")\n",
        "    print(f\"📄 劇本檔案: {result['script_path']}\")\n",
        "    print(f\"🖼️  共生成 {len(result['image_paths'])} 張圖片\")\n",
        "    for i, path in enumerate(result['image_paths'], 1):\n",
        "        print(f\"   第{i}格: {path}\")\n",
        "else:\n",
        "    print(f\"\\n❌ 生成失敗: {result.get('error')}\")\n"
      ]
    }
  ],
  "metadata": {
    "kernelspec": {
      "display_name": "Python 3",
      "language": "python",
      "name": "python3"
    },
    "language_info": {
      "codemirror_mode": {
        "name": "ipython",
        "version": 3
      },
      "file_extension": ".py",
      "mimetype": "text/x-python",
      "name": "python",
      "nbconvert_exporter": "python",
      "pygments_lexer": "ipython3",
      "version": "3.13.4"
    }
  },
  "nbformat": 4,
  "nbformat_minor": 2
}
